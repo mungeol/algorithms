{
 "cells": [
  {
   "cell_type": "code",
   "execution_count": 150,
   "metadata": {},
   "outputs": [
    {
     "name": "stdout",
     "output_type": "stream",
     "text": [
      "{'s': 0, 'a': 10, 'b': 10, 'c': 12, 'd': 9, 'e': 8}\n",
      "{'s': 0, 'a': 5, 'b': 10, 'c': 8, 'd': 9, 'e': 8}\n",
      "{'s': 0, 'a': 5, 'b': 5, 'c': 7, 'd': 9, 'e': 8}\n",
      "{'s': 0, 'a': 5, 'b': 5, 'c': 7, 'd': 9, 'e': 8}\n"
     ]
    }
   ],
   "source": [
    "inf = float('inf')\n",
    "\n",
    "graph = {}\n",
    "graph['s'] = 0\n",
    "graph['a'] = inf\n",
    "graph['b'] = inf\n",
    "graph['c'] = inf\n",
    "graph['d'] = inf\n",
    "graph['e'] = inf\n",
    "\n",
    "costs = {}\n",
    "\n",
    "costs['s'] = {}\n",
    "costs['s']['a'] = 10\n",
    "costs['s']['e'] = 8\n",
    "\n",
    "costs['a'] = {}\n",
    "costs['a']['c'] = 2\n",
    "\n",
    "costs['b'] = {}\n",
    "costs['b']['a'] = 1\n",
    "\n",
    "costs['c'] = {}\n",
    "costs['c']['b'] = -2\n",
    "\n",
    "costs['d'] = {}\n",
    "costs['d']['a'] = -4\n",
    "costs['d']['c'] = -1\n",
    "\n",
    "costs['e'] = {}\n",
    "costs['e']['d'] = 1\n",
    "\n",
    "for i in range(len(graph)):\n",
    "    graph_before = graph.copy()\n",
    "        \n",
    "    for node in graph.keys():\n",
    "        for n in costs[node]:\n",
    "            if graph[node] == inf:\n",
    "                continue\n",
    "\n",
    "            new_cost = graph[node] + costs[node][n]\n",
    "            if graph[n] > new_cost:\n",
    "                graph[n] = new_cost\n",
    "    \n",
    "    print(graph)\n",
    "    \n",
    "    if graph == graph_before:\n",
    "        break"
   ]
  },
  {
   "cell_type": "code",
   "execution_count": null,
   "metadata": {},
   "outputs": [],
   "source": []
  }
 ],
 "metadata": {
  "kernelspec": {
   "display_name": "Python 3",
   "language": "python",
   "name": "python3"
  },
  "language_info": {
   "codemirror_mode": {
    "name": "ipython",
    "version": 3
   },
   "file_extension": ".py",
   "mimetype": "text/x-python",
   "name": "python",
   "nbconvert_exporter": "python",
   "pygments_lexer": "ipython3",
   "version": "3.6.5"
  }
 },
 "nbformat": 4,
 "nbformat_minor": 2
}
